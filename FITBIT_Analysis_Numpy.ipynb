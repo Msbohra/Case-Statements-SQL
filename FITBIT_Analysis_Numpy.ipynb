{
  "nbformat": 4,
  "nbformat_minor": 0,
  "metadata": {
    "colab": {
      "provenance": [],
      "authorship_tag": "ABX9TyOXAgZuKwT04EEjXM/u+F3X",
      "include_colab_link": true
    },
    "kernelspec": {
      "name": "python3",
      "display_name": "Python 3"
    },
    "language_info": {
      "name": "python"
    }
  },
  "cells": [
    {
      "cell_type": "markdown",
      "metadata": {
        "id": "view-in-github",
        "colab_type": "text"
      },
      "source": [
        "<a href=\"https://colab.research.google.com/github/Msbohra/Case-Statements-SQL/blob/main/FITBIT_Analysis_Numpy.ipynb\" target=\"_parent\"><img src=\"https://colab.research.google.com/assets/colab-badge.svg\" alt=\"Open In Colab\"/></a>"
      ]
    },
    {
      "cell_type": "code",
      "execution_count": 3,
      "metadata": {
        "id": "FLDDQmoTFYEO"
      },
      "outputs": [],
      "source": [
        "import numpy as np"
      ]
    },
    {
      "cell_type": "code",
      "source": [],
      "metadata": {
        "id": "ba05hScjKOoz"
      },
      "execution_count": null,
      "outputs": []
    },
    {
      "cell_type": "code",
      "source": [
        "a = np.array([0,1,2,3,4,5])\n"
      ],
      "metadata": {
        "id": "rY9Djmq2KImg"
      },
      "execution_count": null,
      "outputs": []
    },
    {
      "cell_type": "code",
      "source": [
        "mask = (a%2 == 0)"
      ],
      "metadata": {
        "id": "EY6spjFpKQ-L"
      },
      "execution_count": null,
      "outputs": []
    },
    {
      "cell_type": "code",
      "source": [
        "mask"
      ],
      "metadata": {
        "colab": {
          "base_uri": "https://localhost:8080/"
        },
        "id": "pZvipqHvLDAQ",
        "outputId": "8bde9656-899c-4204-b7c3-ef65697bd6b6"
      },
      "execution_count": null,
      "outputs": [
        {
          "output_type": "execute_result",
          "data": {
            "text/plain": [
              "array([ True, False,  True, False,  True, False])"
            ]
          },
          "metadata": {},
          "execution_count": 5
        }
      ]
    },
    {
      "cell_type": "code",
      "source": [
        "a[mask]= -1"
      ],
      "metadata": {
        "id": "zC0mneY7LKfb"
      },
      "execution_count": null,
      "outputs": []
    },
    {
      "cell_type": "code",
      "source": [
        "a"
      ],
      "metadata": {
        "colab": {
          "base_uri": "https://localhost:8080/"
        },
        "id": "u5wRU5MuLPiq",
        "outputId": "831a53e1-b78a-4a6a-e9fc-1c89c9c3be0a"
      },
      "execution_count": null,
      "outputs": [
        {
          "output_type": "execute_result",
          "data": {
            "text/plain": [
              "array([-1,  1, -1,  3, -1,  5])"
            ]
          },
          "metadata": {},
          "execution_count": 7
        }
      ]
    },
    {
      "cell_type": "markdown",
      "source": [
        "Fitbit Analysis\n"
      ],
      "metadata": {
        "id": "VjfX1SSuWWEV"
      }
    },
    {
      "cell_type": "code",
      "source": [
        "data = np.loadtxt(\"fit.txt\", dtype = \"str\")"
      ],
      "metadata": {
        "id": "NLG_VENTWZVI"
      },
      "execution_count": 6,
      "outputs": []
    },
    {
      "cell_type": "code",
      "source": [
        "len(data)"
      ],
      "metadata": {
        "colab": {
          "base_uri": "https://localhost:8080/"
        },
        "id": "-6kDli4tWljK",
        "outputId": "0eb83ac1-1d74-41c2-eed8-e4cf0c943254"
      },
      "execution_count": 7,
      "outputs": [
        {
          "output_type": "execute_result",
          "data": {
            "text/plain": [
              "96"
            ]
          },
          "metadata": {},
          "execution_count": 7
        }
      ]
    },
    {
      "cell_type": "code",
      "source": [
        "len(data[0])"
      ],
      "metadata": {
        "colab": {
          "base_uri": "https://localhost:8080/"
        },
        "id": "4u9SOf_RXMzB",
        "outputId": "29aa1138-ea75-4695-d72a-4cbb88969bc8"
      },
      "execution_count": 8,
      "outputs": [
        {
          "output_type": "execute_result",
          "data": {
            "text/plain": [
              "6"
            ]
          },
          "metadata": {},
          "execution_count": 8
        }
      ]
    },
    {
      "cell_type": "code",
      "source": [
        "data.shape"
      ],
      "metadata": {
        "colab": {
          "base_uri": "https://localhost:8080/"
        },
        "id": "N88z6LgAXTLV",
        "outputId": "ca712ff1-23ab-4ea1-da4c-230a077098c8"
      },
      "execution_count": 9,
      "outputs": [
        {
          "output_type": "execute_result",
          "data": {
            "text/plain": [
              "(96, 6)"
            ]
          },
          "metadata": {},
          "execution_count": 9
        }
      ]
    },
    {
      "cell_type": "code",
      "source": [
        "b= np.arange(16)"
      ],
      "metadata": {
        "id": "6SVj8KalXX4Z"
      },
      "execution_count": null,
      "outputs": []
    },
    {
      "cell_type": "code",
      "source": [
        "b"
      ],
      "metadata": {
        "colab": {
          "base_uri": "https://localhost:8080/"
        },
        "id": "lleZdAM4Xm8i",
        "outputId": "6d8e6e84-c891-4027-c877-286a36eae564"
      },
      "execution_count": null,
      "outputs": [
        {
          "output_type": "execute_result",
          "data": {
            "text/plain": [
              "array([ 0,  1,  2,  3,  4,  5,  6,  7,  8,  9, 10, 11, 12, 13, 14, 15])"
            ]
          },
          "metadata": {},
          "execution_count": 14
        }
      ]
    },
    {
      "cell_type": "code",
      "source": [
        "b.reshape(4,4)"
      ],
      "metadata": {
        "colab": {
          "base_uri": "https://localhost:8080/"
        },
        "id": "aQ0G_3tAX0pp",
        "outputId": "8bb82790-1d7d-4d2e-9095-9c14c4ea258a"
      },
      "execution_count": null,
      "outputs": [
        {
          "output_type": "execute_result",
          "data": {
            "text/plain": [
              "array([[ 0,  1,  2,  3],\n",
              "       [ 4,  5,  6,  7],\n",
              "       [ 8,  9, 10, 11],\n",
              "       [12, 13, 14, 15]])"
            ]
          },
          "metadata": {},
          "execution_count": 16
        }
      ]
    },
    {
      "cell_type": "code",
      "source": [
        "b.reshape(8,2)"
      ],
      "metadata": {
        "colab": {
          "base_uri": "https://localhost:8080/"
        },
        "id": "uBf1J40oXse1",
        "outputId": "f54edc2b-6870-4fd1-f64f-e55ff4003ba6"
      },
      "execution_count": null,
      "outputs": [
        {
          "output_type": "execute_result",
          "data": {
            "text/plain": [
              "array([[ 0,  1],\n",
              "       [ 2,  3],\n",
              "       [ 4,  5],\n",
              "       [ 6,  7],\n",
              "       [ 8,  9],\n",
              "       [10, 11],\n",
              "       [12, 13],\n",
              "       [14, 15]])"
            ]
          },
          "metadata": {},
          "execution_count": 15
        }
      ]
    },
    {
      "cell_type": "code",
      "source": [
        "##ValueError: cannot reshape array of size 16 into shape (4,5)"
      ],
      "metadata": {
        "id": "ykL2EUdbX4QB"
      },
      "execution_count": null,
      "outputs": []
    },
    {
      "cell_type": "code",
      "source": [
        "b.reshape(8,-1)"
      ],
      "metadata": {
        "colab": {
          "base_uri": "https://localhost:8080/"
        },
        "id": "RPDwW4ntX_w6",
        "outputId": "4089de88-cc12-46b6-8238-80818f71e844"
      },
      "execution_count": null,
      "outputs": [
        {
          "output_type": "execute_result",
          "data": {
            "text/plain": [
              "array([[ 0,  1],\n",
              "       [ 2,  3],\n",
              "       [ 4,  5],\n",
              "       [ 6,  7],\n",
              "       [ 8,  9],\n",
              "       [10, 11],\n",
              "       [12, 13],\n",
              "       [14, 15]])"
            ]
          },
          "metadata": {},
          "execution_count": 19
        }
      ]
    },
    {
      "cell_type": "markdown",
      "source": [
        "this will create 8 rows and automatically find a factor of total numbers in order to fill the columns. -1 is a dumy value\n"
      ],
      "metadata": {
        "id": "Hlc8YjeqYpob"
      }
    },
    {
      "cell_type": "code",
      "source": [
        "b.reshape(-1,8)"
      ],
      "metadata": {
        "colab": {
          "base_uri": "https://localhost:8080/"
        },
        "id": "Nsg5vA0kY24W",
        "outputId": "27227c71-f69d-447f-aa63-59b7f9127203"
      },
      "execution_count": null,
      "outputs": [
        {
          "output_type": "execute_result",
          "data": {
            "text/plain": [
              "array([[ 0,  1,  2,  3,  4,  5,  6,  7],\n",
              "       [ 8,  9, 10, 11, 12, 13, 14, 15]])"
            ]
          },
          "metadata": {},
          "execution_count": 20
        }
      ]
    },
    {
      "cell_type": "code",
      "source": [
        "b.reshape(-1,1)"
      ],
      "metadata": {
        "colab": {
          "base_uri": "https://localhost:8080/"
        },
        "id": "-CaliTpeZUs3",
        "outputId": "d8264750-44ec-43e9-9368-1f6878f09fdb"
      },
      "execution_count": null,
      "outputs": [
        {
          "output_type": "execute_result",
          "data": {
            "text/plain": [
              "array([[ 0],\n",
              "       [ 1],\n",
              "       [ 2],\n",
              "       [ 3],\n",
              "       [ 4],\n",
              "       [ 5],\n",
              "       [ 6],\n",
              "       [ 7],\n",
              "       [ 8],\n",
              "       [ 9],\n",
              "       [10],\n",
              "       [11],\n",
              "       [12],\n",
              "       [13],\n",
              "       [14],\n",
              "       [15]])"
            ]
          },
          "metadata": {},
          "execution_count": 21
        }
      ]
    },
    {
      "cell_type": "markdown",
      "source": [
        "this transpose our one d array"
      ],
      "metadata": {
        "id": "RREm9Z62ZYbe"
      }
    },
    {
      "cell_type": "code",
      "source": [
        "a = b.reshape(4,4)"
      ],
      "metadata": {
        "id": "4Nsiy7CIZbk1"
      },
      "execution_count": null,
      "outputs": []
    },
    {
      "cell_type": "code",
      "source": [
        "a"
      ],
      "metadata": {
        "colab": {
          "base_uri": "https://localhost:8080/"
        },
        "id": "WSux1R3cZszB",
        "outputId": "7512c2a1-ff47-47d9-e81e-3d81d5fc67a4"
      },
      "execution_count": null,
      "outputs": [
        {
          "output_type": "execute_result",
          "data": {
            "text/plain": [
              "array([[ 0,  1,  2,  3],\n",
              "       [ 4,  5,  6,  7],\n",
              "       [ 8,  9, 10, 11],\n",
              "       [12, 13, 14, 15]])"
            ]
          },
          "metadata": {},
          "execution_count": 24
        }
      ]
    },
    {
      "cell_type": "code",
      "source": [
        "a.T"
      ],
      "metadata": {
        "colab": {
          "base_uri": "https://localhost:8080/"
        },
        "id": "5vP1Zl0MZuwi",
        "outputId": "775cfe9d-e225-491e-e82c-cb9c6040e3b4"
      },
      "execution_count": null,
      "outputs": [
        {
          "output_type": "execute_result",
          "data": {
            "text/plain": [
              "array([[ 0,  4,  8, 12],\n",
              "       [ 1,  5,  9, 13],\n",
              "       [ 2,  6, 10, 14],\n",
              "       [ 3,  7, 11, 15]])"
            ]
          },
          "metadata": {},
          "execution_count": 25
        }
      ]
    },
    {
      "cell_type": "code",
      "source": [
        "a[0]"
      ],
      "metadata": {
        "colab": {
          "base_uri": "https://localhost:8080/"
        },
        "id": "xCQHrM9EZ-eh",
        "outputId": "af2867d9-29dd-47a3-adaa-2835e85694eb"
      },
      "execution_count": null,
      "outputs": [
        {
          "output_type": "execute_result",
          "data": {
            "text/plain": [
              "array([0, 1, 2, 3])"
            ]
          },
          "metadata": {},
          "execution_count": 27
        }
      ]
    },
    {
      "cell_type": "markdown",
      "source": [
        "a[0][0]"
      ],
      "metadata": {
        "id": "56LtioP8aENz"
      }
    },
    {
      "cell_type": "code",
      "source": [
        "a[0,0] # i row and j column"
      ],
      "metadata": {
        "colab": {
          "base_uri": "https://localhost:8080/"
        },
        "id": "3rtuGcG5aMyb",
        "outputId": "e16147c5-4fb4-418f-a52b-34cc9c3ba303"
      },
      "execution_count": null,
      "outputs": [
        {
          "output_type": "execute_result",
          "data": {
            "text/plain": [
              "0"
            ]
          },
          "metadata": {},
          "execution_count": 30
        }
      ]
    },
    {
      "cell_type": "code",
      "source": [
        "a"
      ],
      "metadata": {
        "colab": {
          "base_uri": "https://localhost:8080/"
        },
        "id": "zC62SfmIaV2d",
        "outputId": "813483ad-9268-4370-e57a-fe6fef96d723"
      },
      "execution_count": null,
      "outputs": [
        {
          "output_type": "execute_result",
          "data": {
            "text/plain": [
              "array([[ 0,  1,  2,  3],\n",
              "       [ 4,  5,  6,  7],\n",
              "       [ 8,  9, 10, 11],\n",
              "       [12, 13, 14, 15]])"
            ]
          },
          "metadata": {},
          "execution_count": 8
        }
      ]
    },
    {
      "cell_type": "code",
      "source": [
        "a[[0,1,2,3],[0,1,2,3]] # a[[row1, row2 , row3, row4], [col1, col2, col3, col4]]"
      ],
      "metadata": {
        "colab": {
          "base_uri": "https://localhost:8080/"
        },
        "id": "Zghtzo0naZKF",
        "outputId": "23f7485f-7919-4cbc-9a0e-598395be0bd3"
      },
      "execution_count": null,
      "outputs": [
        {
          "output_type": "execute_result",
          "data": {
            "text/plain": [
              "array([ 0,  5, 10, 15])"
            ]
          },
          "metadata": {},
          "execution_count": 33
        }
      ]
    },
    {
      "cell_type": "code",
      "source": [
        "a[:3]"
      ],
      "metadata": {
        "colab": {
          "base_uri": "https://localhost:8080/"
        },
        "id": "KcQZvNjbbI3m",
        "outputId": "c7c86a02-d11b-49ab-bbf3-c048b06283f3"
      },
      "execution_count": null,
      "outputs": [
        {
          "output_type": "execute_result",
          "data": {
            "text/plain": [
              "array([[ 0,  1,  2,  3],\n",
              "       [ 4,  5,  6,  7],\n",
              "       [ 8,  9, 10, 11]])"
            ]
          },
          "metadata": {},
          "execution_count": 36
        }
      ]
    },
    {
      "cell_type": "code",
      "source": [
        "a[:,:2] #all the rows and first two columns"
      ],
      "metadata": {
        "colab": {
          "base_uri": "https://localhost:8080/"
        },
        "id": "ApKIv0mrbVJq",
        "outputId": "db35d7e7-b3bf-42c7-eb21-d3ad795763bf"
      },
      "execution_count": null,
      "outputs": [
        {
          "output_type": "execute_result",
          "data": {
            "text/plain": [
              "array([[ 0,  1],\n",
              "       [ 4,  5],\n",
              "       [ 8,  9],\n",
              "       [12, 13]])"
            ]
          },
          "metadata": {},
          "execution_count": 9
        }
      ]
    },
    {
      "cell_type": "code",
      "source": [
        "a[1:3,1:3]"
      ],
      "metadata": {
        "colab": {
          "base_uri": "https://localhost:8080/"
        },
        "id": "HgcYGK-bbjDu",
        "outputId": "625211ae-4dbd-4c31-e12a-c3a2b61c5c66"
      },
      "execution_count": null,
      "outputs": [
        {
          "output_type": "execute_result",
          "data": {
            "text/plain": [
              "array([[ 5,  6],\n",
              "       [ 9, 10]])"
            ]
          },
          "metadata": {},
          "execution_count": 39
        }
      ]
    },
    {
      "cell_type": "code",
      "source": [
        "a"
      ],
      "metadata": {
        "colab": {
          "base_uri": "https://localhost:8080/"
        },
        "id": "nZ4NgfMtcykh",
        "outputId": "c4bb90d0-ce78-457f-c5e7-35b3dad894b4"
      },
      "execution_count": null,
      "outputs": [
        {
          "output_type": "execute_result",
          "data": {
            "text/plain": [
              "array([[ 0,  1,  2,  3],\n",
              "       [ 4,  5,  6,  7],\n",
              "       [ 8,  9, 10, 11],\n",
              "       [12, 13, 14, 15]])"
            ]
          },
          "metadata": {},
          "execution_count": 40
        }
      ]
    },
    {
      "cell_type": "code",
      "source": [
        "a[2:3,1:]"
      ],
      "metadata": {
        "colab": {
          "base_uri": "https://localhost:8080/"
        },
        "id": "w5QaVDh8czGc",
        "outputId": "c21d3f71-925e-4b3a-a09a-669184dc5173"
      },
      "execution_count": null,
      "outputs": [
        {
          "output_type": "execute_result",
          "data": {
            "text/plain": [
              "array([[ 9, 10, 11]])"
            ]
          },
          "metadata": {},
          "execution_count": 41
        }
      ]
    },
    {
      "cell_type": "code",
      "source": [
        "a"
      ],
      "metadata": {
        "colab": {
          "base_uri": "https://localhost:8080/"
        },
        "id": "hqudK7IAdeCf",
        "outputId": "4c2ece8d-52bd-49de-c4a1-bce1e12fb4e9"
      },
      "execution_count": null,
      "outputs": [
        {
          "output_type": "execute_result",
          "data": {
            "text/plain": [
              "array([[ 0,  1,  2,  3],\n",
              "       [ 4,  5,  6,  7],\n",
              "       [ 8,  9, 10, 11],\n",
              "       [12, 13, 14, 15]])"
            ]
          },
          "metadata": {},
          "execution_count": 10
        }
      ]
    },
    {
      "cell_type": "code",
      "source": [
        "a < 6"
      ],
      "metadata": {
        "colab": {
          "base_uri": "https://localhost:8080/"
        },
        "id": "0wShJ9u1dtfy",
        "outputId": "f786b41a-be05-4594-e6f2-798c22c6f403"
      },
      "execution_count": null,
      "outputs": [
        {
          "output_type": "execute_result",
          "data": {
            "text/plain": [
              "array([[ True,  True,  True,  True],\n",
              "       [ True,  True, False, False],\n",
              "       [False, False, False, False],\n",
              "       [False, False, False, False]])"
            ]
          },
          "metadata": {},
          "execution_count": 43
        }
      ]
    },
    {
      "cell_type": "code",
      "source": [
        "mask = a[a < 6]"
      ],
      "metadata": {
        "id": "wLS9xGWZdyVX"
      },
      "execution_count": null,
      "outputs": []
    },
    {
      "cell_type": "code",
      "source": [
        "mask ## answer will always be in one d"
      ],
      "metadata": {
        "colab": {
          "base_uri": "https://localhost:8080/"
        },
        "id": "J9pPHaNUd6SO",
        "outputId": "280a204a-534c-4c86-a3a1-2441256c2c8b"
      },
      "execution_count": null,
      "outputs": [
        {
          "output_type": "execute_result",
          "data": {
            "text/plain": [
              "array([0, 1, 2, 3, 4, 5])"
            ]
          },
          "metadata": {},
          "execution_count": 45
        }
      ]
    },
    {
      "cell_type": "code",
      "source": [
        "a [a % 2 == 0]"
      ],
      "metadata": {
        "colab": {
          "base_uri": "https://localhost:8080/"
        },
        "id": "B6XXybCFCix_",
        "outputId": "2bff026e-1145-4294-e284-71d44bd73602"
      },
      "execution_count": null,
      "outputs": [
        {
          "output_type": "execute_result",
          "data": {
            "text/plain": [
              "array([ 0,  2,  4,  6,  8, 10, 12, 14])"
            ]
          },
          "metadata": {},
          "execution_count": 11
        }
      ]
    },
    {
      "cell_type": "code",
      "source": [
        "data.shape"
      ],
      "metadata": {
        "id": "rdMLt4KpFNd7",
        "colab": {
          "base_uri": "https://localhost:8080/"
        },
        "outputId": "ef6c1590-1f5b-40e7-9b28-08f87aa92f86"
      },
      "execution_count": 10,
      "outputs": [
        {
          "output_type": "execute_result",
          "data": {
            "text/plain": [
              "(96, 6)"
            ]
          },
          "metadata": {},
          "execution_count": 10
        }
      ]
    },
    {
      "cell_type": "code",
      "source": [
        "data_t = data.T"
      ],
      "metadata": {
        "id": "vQt70JNpFOg1"
      },
      "execution_count": 11,
      "outputs": []
    },
    {
      "cell_type": "code",
      "source": [
        "data_t"
      ],
      "metadata": {
        "id": "hlkEQu4BF_4R",
        "colab": {
          "base_uri": "https://localhost:8080/"
        },
        "outputId": "4e25373a-911e-48ae-d9b3-c8db788c3c9d"
      },
      "execution_count": 12,
      "outputs": [
        {
          "output_type": "execute_result",
          "data": {
            "text/plain": [
              "array([['06-10-2017', '07-10-2017', '08-10-2017', '09-10-2017',\n",
              "        '10-10-2017', '11-10-2017', '12-10-2017', '13-10-2017',\n",
              "        '14-10-2017', '15-10-2017', '16-10-2017', '17-10-2017',\n",
              "        '18-10-2017', '19-10-2017', '20-10-2017', '21-10-2017',\n",
              "        '22-10-2017', '23-10-2017', '24-10-2017', '25-10-2017',\n",
              "        '26-10-2017', '27-10-2017', '28-10-2017', '29-10-2017',\n",
              "        '30-10-2017', '31-10-2017', '01-11-2017', '02-11-2017',\n",
              "        '03-11-2017', '04-11-2017', '05-11-2017', '06-11-2017',\n",
              "        '07-11-2017', '08-11-2017', '09-11-2017', '10-11-2017',\n",
              "        '11-11-2017', '12-11-2017', '13-11-2017', '14-11-2017',\n",
              "        '15-11-2017', '16-11-2017', '17-11-2017', '18-11-2017',\n",
              "        '19-11-2017', '20-11-2017', '21-11-2017', '22-11-2017',\n",
              "        '23-11-2017', '24-11-2017', '25-11-2017', '26-11-2017',\n",
              "        '27-11-2017', '28-11-2017', '29-11-2017', '30-11-2017',\n",
              "        '01-12-2017', '02-12-2017', '03-12-2017', '04-12-2017',\n",
              "        '05-12-2017', '06-12-2017', '07-12-2017', '08-12-2017',\n",
              "        '09-12-2017', '10-12-2017', '11-12-2017', '12-12-2017',\n",
              "        '13-12-2017', '14-12-2017', '15-12-2017', '16-12-2017',\n",
              "        '17-12-2017', '18-12-2017', '19-12-2017', '20-12-2017',\n",
              "        '21-12-2017', '22-12-2017', '23-12-2017', '24-12-2017',\n",
              "        '25-12-2017', '26-12-2017', '27-12-2017', '28-12-2017',\n",
              "        '29-12-2017', '30-12-2017', '31-12-2017', '01-01-2018',\n",
              "        '02-01-2018', '03-01-2018', '04-01-2018', '05-01-2018',\n",
              "        '06-01-2018', '07-01-2018', '08-01-2018', '09-01-2018'],\n",
              "       ['5464', '6041', '25', '5461', '6915', '4545', '4340', '1230',\n",
              "        '61', '1258', '3148', '4687', '4732', '3519', '1580', '2822',\n",
              "        '181', '3158', '4383', '3881', '4037', '202', '292', '330',\n",
              "        '2209', '4550', '4435', '4779', '1831', '2255', '539', '5464',\n",
              "        '6041', '4068', '4683', '4033', '6314', '614', '3149', '4005',\n",
              "        '4880', '4136', '705', '570', '269', '4275', '5999', '4421',\n",
              "        '6930', '5195', '546', '493', '995', '1163', '6676', '3608',\n",
              "        '774', '1421', '4064', '2725', '5934', '1867', '3721', '2374',\n",
              "        '2909', '1648', '799', '7102', '3941', '7422', '437', '1231',\n",
              "        '1696', '4921', '221', '6500', '3575', '4061', '651', '753',\n",
              "        '518', '5537', '4108', '5376', '3066', '177', '36', '299',\n",
              "        '1447', '2599', '702', '133', '153', '500', '2127', '2203'],\n",
              "       ['Neutral', 'Sad', 'Sad', 'Sad', 'Neutral', 'Sad', 'Sad', 'Sad',\n",
              "        'Sad', 'Sad', 'Sad', 'Sad', 'Happy', 'Sad', 'Sad', 'Sad', 'Sad',\n",
              "        'Neutral', 'Neutral', 'Neutral', 'Neutral', 'Neutral', 'Neutral',\n",
              "        'Happy', 'Neutral', 'Happy', 'Happy', 'Happy', 'Happy', 'Happy',\n",
              "        'Happy', 'Happy', 'Neutral', 'Happy', 'Happy', 'Happy', 'Happy',\n",
              "        'Happy', 'Happy', 'Happy', 'Happy', 'Happy', 'Happy', 'Neutral',\n",
              "        'Happy', 'Happy', 'Happy', 'Happy', 'Happy', 'Happy', 'Happy',\n",
              "        'Happy', 'Happy', 'Neutral', 'Sad', 'Happy', 'Happy', 'Happy',\n",
              "        'Happy', 'Happy', 'Happy', 'Happy', 'Sad', 'Neutral', 'Neutral',\n",
              "        'Sad', 'Sad', 'Neutral', 'Neutral', 'Happy', 'Neutral',\n",
              "        'Neutral', 'Sad', 'Neutral', 'Sad', 'Neutral', 'Neutral', 'Sad',\n",
              "        'Sad', 'Sad', 'Sad', 'Happy', 'Neutral', 'Happy', 'Neutral',\n",
              "        'Sad', 'Sad', 'Sad', 'Neutral', 'Neutral', 'Sad', 'Sad', 'Happy',\n",
              "        'Neutral', 'Neutral', 'Happy'],\n",
              "       ['181', '197', '0', '174', '223', '149', '140', '38', '1', '40',\n",
              "        '101', '152', '150', '113', '49', '86', '6', '99', '143', '125',\n",
              "        '129', '6', '9', '10', '72', '150', '141', '156', '57', '72',\n",
              "        '17', '181', '197', '131', '154', '137', '193', '19', '101',\n",
              "        '139', '164', '137', '22', '17', '9', '145', '192', '146', '234',\n",
              "        '167', '16', '17', '32', '35', '220', '116', '23', '44', '131',\n",
              "        '86', '194', '60', '121', '76', '93', '53', '25', '227', '125',\n",
              "        '243', '14', '39', '55', '158', '7', '213', '116', '129', '21',\n",
              "        '28', '16', '180', '138', '176', '99', '5', '1', '10', '47',\n",
              "        '84', '23', '4', '0', '0', '0', '0'],\n",
              "       ['5', '8', '5', '4', '5', '6', '6', '7', '5', '6', '8', '5', '6',\n",
              "        '7', '5', '6', '8', '5', '4', '5', '6', '8', '5', '6', '5', '8',\n",
              "        '5', '4', '5', '4', '5', '4', '3', '2', '9', '5', '6', '4', '5',\n",
              "        '8', '4', '5', '6', '5', '6', '5', '6', '5', '6', '5', '6', '7',\n",
              "        '6', '7', '6', '5', '6', '7', '8', '8', '7', '8', '5', '4', '3',\n",
              "        '3', '4', '5', '5', '5', '3', '4', '4', '5', '5', '5', '5', '5',\n",
              "        '5', '4', '3', '4', '5', '5', '4', '5', '3', '3', '3', '2', '3',\n",
              "        '2', '8', '5', '5', '5'],\n",
              "       ['Inactive', 'Inactive', 'Inactive', 'Inactive', 'Active',\n",
              "        'Inactive', 'Inactive', 'Inactive', 'Inactive', 'Inactive',\n",
              "        'Inactive', 'Inactive', 'Active', 'Inactive', 'Inactive',\n",
              "        'Inactive', 'Inactive', 'Inactive', 'Inactive', 'Inactive',\n",
              "        'Inactive', 'Inactive', 'Inactive', 'Inactive', 'Inactive',\n",
              "        'Active', 'Inactive', 'Inactive', 'Inactive', 'Inactive',\n",
              "        'Active', 'Inactive', 'Inactive', 'Inactive', 'Inactive',\n",
              "        'Inactive', 'Active', 'Active', 'Active', 'Active', 'Active',\n",
              "        'Active', 'Active', 'Active', 'Active', 'Inactive', 'Inactive',\n",
              "        'Inactive', 'Inactive', 'Inactive', 'Inactive', 'Active',\n",
              "        'Active', 'Active', 'Active', 'Active', 'Active', 'Active',\n",
              "        'Active', 'Active', 'Active', 'Active', 'Active', 'Inactive',\n",
              "        'Active', 'Active', 'Inactive', 'Active', 'Active', 'Active',\n",
              "        'Active', 'Active', 'Inactive', 'Active', 'Active', 'Active',\n",
              "        'Active', 'Inactive', 'Inactive', 'Inactive', 'Inactive',\n",
              "        'Active', 'Active', 'Active', 'Active', 'Inactive', 'Inactive',\n",
              "        'Inactive', 'Inactive', 'Inactive', 'Inactive', 'Inactive',\n",
              "        'Inactive', 'Active', 'Inactive', 'Active']], dtype='<U10')"
            ]
          },
          "metadata": {},
          "execution_count": 12
        }
      ]
    },
    {
      "cell_type": "code",
      "source": [
        "step_count = data_t[1]   # just for step count"
      ],
      "metadata": {
        "id": "hOtkdg7yGAVf"
      },
      "execution_count": 14,
      "outputs": []
    },
    {
      "cell_type": "code",
      "source": [
        "step_count"
      ],
      "metadata": {
        "id": "QinNDJ7dGA1N",
        "colab": {
          "base_uri": "https://localhost:8080/"
        },
        "outputId": "6ae2455f-e295-44cf-9516-d3ee3ce12fd1"
      },
      "execution_count": 15,
      "outputs": [
        {
          "output_type": "execute_result",
          "data": {
            "text/plain": [
              "array(['5464', '6041', '25', '5461', '6915', '4545', '4340', '1230', '61',\n",
              "       '1258', '3148', '4687', '4732', '3519', '1580', '2822', '181',\n",
              "       '3158', '4383', '3881', '4037', '202', '292', '330', '2209',\n",
              "       '4550', '4435', '4779', '1831', '2255', '539', '5464', '6041',\n",
              "       '4068', '4683', '4033', '6314', '614', '3149', '4005', '4880',\n",
              "       '4136', '705', '570', '269', '4275', '5999', '4421', '6930',\n",
              "       '5195', '546', '493', '995', '1163', '6676', '3608', '774', '1421',\n",
              "       '4064', '2725', '5934', '1867', '3721', '2374', '2909', '1648',\n",
              "       '799', '7102', '3941', '7422', '437', '1231', '1696', '4921',\n",
              "       '221', '6500', '3575', '4061', '651', '753', '518', '5537', '4108',\n",
              "       '5376', '3066', '177', '36', '299', '1447', '2599', '702', '133',\n",
              "       '153', '500', '2127', '2203'], dtype='<U10')"
            ]
          },
          "metadata": {},
          "execution_count": 15
        }
      ]
    },
    {
      "cell_type": "code",
      "source": [
        "step_count = step_count.astype(\"int\")"
      ],
      "metadata": {
        "id": "k2P8712RqN-H"
      },
      "execution_count": 27,
      "outputs": []
    },
    {
      "cell_type": "code",
      "source": [
        "step_count"
      ],
      "metadata": {
        "colab": {
          "base_uri": "https://localhost:8080/"
        },
        "id": "dpIGxJt7qGfH",
        "outputId": "8b19f82d-94b3-492c-d6d3-d903cad690c1"
      },
      "execution_count": 28,
      "outputs": [
        {
          "output_type": "execute_result",
          "data": {
            "text/plain": [
              "array([5464, 6041,   25, 5461, 6915, 4545, 4340, 1230,   61, 1258, 3148,\n",
              "       4687, 4732, 3519, 1580, 2822,  181, 3158, 4383, 3881, 4037,  202,\n",
              "        292,  330, 2209, 4550, 4435, 4779, 1831, 2255,  539, 5464, 6041,\n",
              "       4068, 4683, 4033, 6314,  614, 3149, 4005, 4880, 4136,  705,  570,\n",
              "        269, 4275, 5999, 4421, 6930, 5195,  546,  493,  995, 1163, 6676,\n",
              "       3608,  774, 1421, 4064, 2725, 5934, 1867, 3721, 2374, 2909, 1648,\n",
              "        799, 7102, 3941, 7422,  437, 1231, 1696, 4921,  221, 6500, 3575,\n",
              "       4061,  651,  753,  518, 5537, 4108, 5376, 3066,  177,   36,  299,\n",
              "       1447, 2599,  702,  133,  153,  500, 2127, 2203])"
            ]
          },
          "metadata": {},
          "execution_count": 28
        }
      ]
    },
    {
      "cell_type": "code",
      "source": [
        "step_count.mean()"
      ],
      "metadata": {
        "colab": {
          "base_uri": "https://localhost:8080/"
        },
        "id": "S34Oo5aMqGbx",
        "outputId": "2227bbc4-dbe5-48cb-f70d-deba6ca71fce"
      },
      "execution_count": 29,
      "outputs": [
        {
          "output_type": "execute_result",
          "data": {
            "text/plain": [
              "2935.9375"
            ]
          },
          "metadata": {},
          "execution_count": 29
        }
      ]
    },
    {
      "cell_type": "markdown",
      "source": [],
      "metadata": {
        "id": "lIoFStZjrDFW"
      }
    },
    {
      "cell_type": "code",
      "source": [
        "step_count.min()"
      ],
      "metadata": {
        "colab": {
          "base_uri": "https://localhost:8080/"
        },
        "id": "NGgF59GbqGY8",
        "outputId": "4c511995-1c08-4264-d94c-4f882631f7c2"
      },
      "execution_count": 30,
      "outputs": [
        {
          "output_type": "execute_result",
          "data": {
            "text/plain": [
              "25"
            ]
          },
          "metadata": {},
          "execution_count": 30
        }
      ]
    },
    {
      "cell_type": "code",
      "source": [
        "step_count.max()"
      ],
      "metadata": {
        "colab": {
          "base_uri": "https://localhost:8080/"
        },
        "id": "K5SDu95SqGV4",
        "outputId": "967d3855-6a95-477f-c27f-4a62e3fa5550"
      },
      "execution_count": 31,
      "outputs": [
        {
          "output_type": "execute_result",
          "data": {
            "text/plain": [
              "7422"
            ]
          },
          "metadata": {},
          "execution_count": 31
        }
      ]
    },
    {
      "cell_type": "code",
      "source": [
        "data[:,1]"
      ],
      "metadata": {
        "colab": {
          "base_uri": "https://localhost:8080/"
        },
        "id": "kzZMLAZ1qGSj",
        "outputId": "d12b0f49-0f49-4eb4-ccc2-bf18b1b6f261"
      },
      "execution_count": 32,
      "outputs": [
        {
          "output_type": "execute_result",
          "data": {
            "text/plain": [
              "array(['5464', '6041', '25', '5461', '6915', '4545', '4340', '1230', '61',\n",
              "       '1258', '3148', '4687', '4732', '3519', '1580', '2822', '181',\n",
              "       '3158', '4383', '3881', '4037', '202', '292', '330', '2209',\n",
              "       '4550', '4435', '4779', '1831', '2255', '539', '5464', '6041',\n",
              "       '4068', '4683', '4033', '6314', '614', '3149', '4005', '4880',\n",
              "       '4136', '705', '570', '269', '4275', '5999', '4421', '6930',\n",
              "       '5195', '546', '493', '995', '1163', '6676', '3608', '774', '1421',\n",
              "       '4064', '2725', '5934', '1867', '3721', '2374', '2909', '1648',\n",
              "       '799', '7102', '3941', '7422', '437', '1231', '1696', '4921',\n",
              "       '221', '6500', '3575', '4061', '651', '753', '518', '5537', '4108',\n",
              "       '5376', '3066', '177', '36', '299', '1447', '2599', '702', '133',\n",
              "       '153', '500', '2127', '2203'], dtype='<U10')"
            ]
          },
          "metadata": {},
          "execution_count": 32
        }
      ]
    },
    {
      "cell_type": "code",
      "source": [
        "mood = data[:, 2]\n",
        "mood"
      ],
      "metadata": {
        "colab": {
          "base_uri": "https://localhost:8080/"
        },
        "id": "iBM9BhksqGPS",
        "outputId": "d82ea91e-6169-4029-8c4c-72441864081d"
      },
      "execution_count": 34,
      "outputs": [
        {
          "output_type": "execute_result",
          "data": {
            "text/plain": [
              "array(['Neutral', 'Sad', 'Sad', 'Sad', 'Neutral', 'Sad', 'Sad', 'Sad',\n",
              "       'Sad', 'Sad', 'Sad', 'Sad', 'Happy', 'Sad', 'Sad', 'Sad', 'Sad',\n",
              "       'Neutral', 'Neutral', 'Neutral', 'Neutral', 'Neutral', 'Neutral',\n",
              "       'Happy', 'Neutral', 'Happy', 'Happy', 'Happy', 'Happy', 'Happy',\n",
              "       'Happy', 'Happy', 'Neutral', 'Happy', 'Happy', 'Happy', 'Happy',\n",
              "       'Happy', 'Happy', 'Happy', 'Happy', 'Happy', 'Happy', 'Neutral',\n",
              "       'Happy', 'Happy', 'Happy', 'Happy', 'Happy', 'Happy', 'Happy',\n",
              "       'Happy', 'Happy', 'Neutral', 'Sad', 'Happy', 'Happy', 'Happy',\n",
              "       'Happy', 'Happy', 'Happy', 'Happy', 'Sad', 'Neutral', 'Neutral',\n",
              "       'Sad', 'Sad', 'Neutral', 'Neutral', 'Happy', 'Neutral', 'Neutral',\n",
              "       'Sad', 'Neutral', 'Sad', 'Neutral', 'Neutral', 'Sad', 'Sad', 'Sad',\n",
              "       'Sad', 'Happy', 'Neutral', 'Happy', 'Neutral', 'Sad', 'Sad', 'Sad',\n",
              "       'Neutral', 'Neutral', 'Sad', 'Sad', 'Happy', 'Neutral', 'Neutral',\n",
              "       'Happy'], dtype='<U10')"
            ]
          },
          "metadata": {},
          "execution_count": 34
        }
      ]
    },
    {
      "cell_type": "code",
      "source": [
        "s = np.array([300, 457, 2000, 430, 3500])"
      ],
      "metadata": {
        "id": "CEzmFcRLqGMj"
      },
      "execution_count": 36,
      "outputs": []
    },
    {
      "cell_type": "code",
      "source": [
        "s"
      ],
      "metadata": {
        "colab": {
          "base_uri": "https://localhost:8080/"
        },
        "id": "arDOQQaCqGJg",
        "outputId": "d904c225-c0c3-4281-e1a6-7fe0425b5083"
      },
      "execution_count": 37,
      "outputs": [
        {
          "output_type": "execute_result",
          "data": {
            "text/plain": [
              "array([ 300,  457, 2000,  430, 3500])"
            ]
          },
          "metadata": {},
          "execution_count": 37
        }
      ]
    },
    {
      "cell_type": "code",
      "source": [
        "m = np.array([\"happy\",\"sad\",\"happy\",\"sad\", \"happy\"])"
      ],
      "metadata": {
        "id": "vfU3GhwKqGGa"
      },
      "execution_count": 38,
      "outputs": []
    },
    {
      "cell_type": "code",
      "source": [
        "m"
      ],
      "metadata": {
        "colab": {
          "base_uri": "https://localhost:8080/"
        },
        "id": "0jUoaHvqqGDZ",
        "outputId": "bc2c70db-8142-4810-9b35-1f7fa77de18e"
      },
      "execution_count": 39,
      "outputs": [
        {
          "output_type": "execute_result",
          "data": {
            "text/plain": [
              "array(['happy', 'sad', 'happy', 'sad', 'happy'], dtype='<U5')"
            ]
          },
          "metadata": {},
          "execution_count": 39
        }
      ]
    },
    {
      "cell_type": "code",
      "source": [
        "s[m=='happy']"
      ],
      "metadata": {
        "colab": {
          "base_uri": "https://localhost:8080/"
        },
        "id": "6XGJo5a-qGAe",
        "outputId": "578fa75c-f34b-4048-b6c9-a230e62bbdf7"
      },
      "execution_count": 40,
      "outputs": [
        {
          "output_type": "execute_result",
          "data": {
            "text/plain": [
              "array([ 300, 2000, 3500])"
            ]
          },
          "metadata": {},
          "execution_count": 40
        }
      ]
    },
    {
      "cell_type": "code",
      "source": [
        "a = np.arange(12).reshape(3,4)\n",
        "a"
      ],
      "metadata": {
        "colab": {
          "base_uri": "https://localhost:8080/"
        },
        "id": "TVOasvDuqF9T",
        "outputId": "8fab223c-9c9f-445d-ad97-2681c3e06be5"
      },
      "execution_count": 43,
      "outputs": [
        {
          "output_type": "execute_result",
          "data": {
            "text/plain": [
              "array([[ 0,  1,  2,  3],\n",
              "       [ 4,  5,  6,  7],\n",
              "       [ 8,  9, 10, 11]])"
            ]
          },
          "metadata": {},
          "execution_count": 43
        }
      ]
    },
    {
      "cell_type": "code",
      "source": [
        "np.sum(a)"
      ],
      "metadata": {
        "colab": {
          "base_uri": "https://localhost:8080/"
        },
        "id": "08ySJKehqFyD",
        "outputId": "ca91c225-afd0-48da-f017-ed4b0041fee6"
      },
      "execution_count": 44,
      "outputs": [
        {
          "output_type": "execute_result",
          "data": {
            "text/plain": [
              "66"
            ]
          },
          "metadata": {},
          "execution_count": 44
        }
      ]
    },
    {
      "cell_type": "code",
      "source": [
        "# axis = 0 col, axis = 1 row"
      ],
      "metadata": {
        "id": "ULpJYTMbqFi_"
      },
      "execution_count": 45,
      "outputs": []
    },
    {
      "cell_type": "code",
      "source": [
        "np.sum(a,axis = 0)"
      ],
      "metadata": {
        "colab": {
          "base_uri": "https://localhost:8080/"
        },
        "id": "7vgaQvSuxK2m",
        "outputId": "4fd13f2b-4ea8-4da6-e689-73358e3e43a6"
      },
      "execution_count": 46,
      "outputs": [
        {
          "output_type": "execute_result",
          "data": {
            "text/plain": [
              "array([12, 15, 18, 21])"
            ]
          },
          "metadata": {},
          "execution_count": 46
        }
      ]
    },
    {
      "cell_type": "code",
      "source": [
        "np.sum(a, axis = 1)"
      ],
      "metadata": {
        "colab": {
          "base_uri": "https://localhost:8080/"
        },
        "id": "1wXEzJ9LxKzq",
        "outputId": "782fcdc7-891e-457f-8cc4-38302d8c1cfc"
      },
      "execution_count": 47,
      "outputs": [
        {
          "output_type": "execute_result",
          "data": {
            "text/plain": [
              "array([ 6, 22, 38])"
            ]
          },
          "metadata": {},
          "execution_count": 47
        }
      ]
    },
    {
      "cell_type": "code",
      "source": [
        "np.mean(a, axis = 0)"
      ],
      "metadata": {
        "colab": {
          "base_uri": "https://localhost:8080/"
        },
        "id": "7jT_AeIjxKw1",
        "outputId": "a539aef7-e72c-4f49-972b-1df94905b8fb"
      },
      "execution_count": 48,
      "outputs": [
        {
          "output_type": "execute_result",
          "data": {
            "text/plain": [
              "array([4., 5., 6., 7.])"
            ]
          },
          "metadata": {},
          "execution_count": 48
        }
      ]
    },
    {
      "cell_type": "code",
      "source": [
        "np.mean(a, axis = 1)"
      ],
      "metadata": {
        "colab": {
          "base_uri": "https://localhost:8080/"
        },
        "id": "nlpzPV1bxKuI",
        "outputId": "c34a79f9-d4c6-4e8b-ef9a-bcd183d55f0a"
      },
      "execution_count": 49,
      "outputs": [
        {
          "output_type": "execute_result",
          "data": {
            "text/plain": [
              "array([1.5, 5.5, 9.5])"
            ]
          },
          "metadata": {},
          "execution_count": 49
        }
      ]
    },
    {
      "cell_type": "code",
      "source": [
        "a = np.array([4,5,6,7])\n",
        "b = np.array([4,7,2,1])"
      ],
      "metadata": {
        "id": "9VP7zVXGxKrC"
      },
      "execution_count": 56,
      "outputs": []
    },
    {
      "cell_type": "code",
      "source": [
        "a<b"
      ],
      "metadata": {
        "colab": {
          "base_uri": "https://localhost:8080/"
        },
        "id": "-oAtybVexKnx",
        "outputId": "d20932a7-ef46-4bab-e35d-4753629f54e0"
      },
      "execution_count": 57,
      "outputs": [
        {
          "output_type": "execute_result",
          "data": {
            "text/plain": [
              "array([False,  True, False, False])"
            ]
          },
          "metadata": {},
          "execution_count": 57
        }
      ]
    },
    {
      "cell_type": "code",
      "source": [
        "np.any(a<b)"
      ],
      "metadata": {
        "colab": {
          "base_uri": "https://localhost:8080/"
        },
        "id": "T7EuYS4rxKkh",
        "outputId": "9e746a79-c07e-406a-c8ee-f0689d1353e4"
      },
      "execution_count": 58,
      "outputs": [
        {
          "output_type": "execute_result",
          "data": {
            "text/plain": [
              "True"
            ]
          },
          "metadata": {},
          "execution_count": 58
        }
      ]
    },
    {
      "cell_type": "code",
      "source": [
        "np.all(a<b)"
      ],
      "metadata": {
        "colab": {
          "base_uri": "https://localhost:8080/"
        },
        "id": "j2rHA29WxKhr",
        "outputId": "d69b3ca0-50af-4818-975a-ced3ee4a5030"
      },
      "execution_count": 59,
      "outputs": [
        {
          "output_type": "execute_result",
          "data": {
            "text/plain": [
              "False"
            ]
          },
          "metadata": {},
          "execution_count": 59
        }
      ]
    },
    {
      "cell_type": "code",
      "source": [
        "np.array([0,1,-1,3,5,-4, 8])"
      ],
      "metadata": {
        "colab": {
          "base_uri": "https://localhost:8080/"
        },
        "id": "OTyT7OxWxKex",
        "outputId": "6e43b683-bc11-45bd-b6f8-0f51e5cd00a9"
      },
      "execution_count": 61,
      "outputs": [
        {
          "output_type": "execute_result",
          "data": {
            "text/plain": [
              "array([ 0,  1, -1,  3,  5, -4,  8])"
            ]
          },
          "metadata": {},
          "execution_count": 61
        }
      ]
    },
    {
      "cell_type": "code",
      "source": [
        "np.where(a>0, -1, 1)"
      ],
      "metadata": {
        "colab": {
          "base_uri": "https://localhost:8080/"
        },
        "id": "3qlE5VQH6tXI",
        "outputId": "51b96cf1-0d10-4a21-9752-86f5bd68beae"
      },
      "execution_count": 62,
      "outputs": [
        {
          "output_type": "execute_result",
          "data": {
            "text/plain": [
              "array([-1, -1, -1, -1])"
            ]
          },
          "metadata": {},
          "execution_count": 62
        }
      ]
    },
    {
      "cell_type": "code",
      "source": [
        "mood_happy = mood ==\"Happy\"\n",
        "step_count_happy = step_count[mood_happy]\n",
        "step_count_happy"
      ],
      "metadata": {
        "colab": {
          "base_uri": "https://localhost:8080/"
        },
        "id": "fX1GiRZ56s3_",
        "outputId": "324fd4a3-1caf-4ef9-d174-6bc243aa7ab2"
      },
      "execution_count": 65,
      "outputs": [
        {
          "output_type": "execute_result",
          "data": {
            "text/plain": [
              "array([4732,  330, 4550, 4435, 4779, 1831, 2255,  539, 5464, 4068, 4683,\n",
              "       4033, 6314,  614, 3149, 4005, 4880, 4136,  705,  269, 4275, 5999,\n",
              "       4421, 6930, 5195,  546,  493,  995, 3608,  774, 1421, 4064, 2725,\n",
              "       5934, 1867, 7422, 5537, 5376,  153, 2203])"
            ]
          },
          "metadata": {},
          "execution_count": 65
        }
      ]
    },
    {
      "cell_type": "code",
      "source": [
        "len(step_count_happy)"
      ],
      "metadata": {
        "colab": {
          "base_uri": "https://localhost:8080/"
        },
        "id": "kW55Pu6b7Qxi",
        "outputId": "1bcf4146-12b9-4310-b53f-26c6ee10fec8"
      },
      "execution_count": 66,
      "outputs": [
        {
          "output_type": "execute_result",
          "data": {
            "text/plain": [
              "40"
            ]
          },
          "metadata": {},
          "execution_count": 66
        }
      ]
    },
    {
      "cell_type": "code",
      "source": [],
      "metadata": {
        "id": "0jQtO5bG8RqU"
      },
      "execution_count": null,
      "outputs": []
    },
    {
      "cell_type": "code",
      "source": [
        "mood_happy_netural = (mood ==\"Neutral\") | (mood == \"Happy\")\n",
        "step_count_happy_netural = step_count[mood_happy_netural]\n",
        "step_count_happy_netural"
      ],
      "metadata": {
        "colab": {
          "base_uri": "https://localhost:8080/"
        },
        "id": "ujf5DGE47Qu1",
        "outputId": "fab03389-021d-47d8-a675-63be7b36e968"
      },
      "execution_count": 72,
      "outputs": [
        {
          "output_type": "execute_result",
          "data": {
            "text/plain": [
              "array([5464, 6915, 4732, 3158, 4383, 3881, 4037,  202,  292,  330, 2209,\n",
              "       4550, 4435, 4779, 1831, 2255,  539, 5464, 6041, 4068, 4683, 4033,\n",
              "       6314,  614, 3149, 4005, 4880, 4136,  705,  570,  269, 4275, 5999,\n",
              "       4421, 6930, 5195,  546,  493,  995, 1163, 3608,  774, 1421, 4064,\n",
              "       2725, 5934, 1867, 2374, 2909, 7102, 3941, 7422,  437, 1231, 4921,\n",
              "       6500, 3575, 5537, 4108, 5376, 3066, 1447, 2599,  153,  500, 2127,\n",
              "       2203])"
            ]
          },
          "metadata": {},
          "execution_count": 72
        }
      ]
    },
    {
      "cell_type": "code",
      "source": [
        "len(step_count_happy_netural)"
      ],
      "metadata": {
        "colab": {
          "base_uri": "https://localhost:8080/"
        },
        "id": "8W9NIAks7QsO",
        "outputId": "08bd1a63-d483-4bcb-d3ec-d80d44f967f9"
      },
      "execution_count": 73,
      "outputs": [
        {
          "output_type": "execute_result",
          "data": {
            "text/plain": [
              "67"
            ]
          },
          "metadata": {},
          "execution_count": 73
        }
      ]
    },
    {
      "cell_type": "code",
      "source": [
        "step_count_happy_netural.mean()"
      ],
      "metadata": {
        "colab": {
          "base_uri": "https://localhost:8080/"
        },
        "id": "Kg4gCWJV7Qp6",
        "outputId": "0c06311c-1ac5-48ef-e3ea-0443dd0065aa"
      },
      "execution_count": 74,
      "outputs": [
        {
          "output_type": "execute_result",
          "data": {
            "text/plain": [
              "3296.4328358208954"
            ]
          },
          "metadata": {},
          "execution_count": 74
        }
      ]
    },
    {
      "cell_type": "code",
      "source": [
        "mood_sad = (mood ==\"Sad\")\n",
        "step_count_sad = step_count[mood_sad]\n",
        "step_count_sad"
      ],
      "metadata": {
        "colab": {
          "base_uri": "https://localhost:8080/"
        },
        "id": "N69WdOM57QjO",
        "outputId": "556b2e67-196b-4f4b-92b5-cbb6e51f223b"
      },
      "execution_count": 75,
      "outputs": [
        {
          "output_type": "execute_result",
          "data": {
            "text/plain": [
              "array([6041,   25, 5461, 4545, 4340, 1230,   61, 1258, 3148, 4687, 3519,\n",
              "       1580, 2822,  181, 6676, 3721, 1648,  799, 1696,  221, 4061,  651,\n",
              "        753,  518,  177,   36,  299,  702,  133])"
            ]
          },
          "metadata": {},
          "execution_count": 75
        }
      ]
    },
    {
      "cell_type": "code",
      "source": [
        "len(step_count_sad)"
      ],
      "metadata": {
        "colab": {
          "base_uri": "https://localhost:8080/"
        },
        "id": "2EXAMCC-7QgI",
        "outputId": "703a7897-65c2-4d3f-daf1-38c4bdc30ced"
      },
      "execution_count": 77,
      "outputs": [
        {
          "output_type": "execute_result",
          "data": {
            "text/plain": [
              "29"
            ]
          },
          "metadata": {},
          "execution_count": 77
        }
      ]
    },
    {
      "cell_type": "code",
      "source": [
        "step_count_sad.mean()"
      ],
      "metadata": {
        "colab": {
          "base_uri": "https://localhost:8080/"
        },
        "id": "nBSHH6xH7QdR",
        "outputId": "c8ad557a-5fef-46b1-d2a8-ad558f2080ee"
      },
      "execution_count": 78,
      "outputs": [
        {
          "output_type": "execute_result",
          "data": {
            "text/plain": [
              "2103.0689655172414"
            ]
          },
          "metadata": {},
          "execution_count": 78
        }
      ]
    },
    {
      "cell_type": "markdown",
      "source": [
        "What is the step c\n",
        "ount for the days where mood is happy and active_status is active\n",
        "\n",
        "```\n",
        "# This is formatted as code\n",
        "```\n",
        "\n"
      ],
      "metadata": {
        "id": "W9WdVc89940I"
      }
    },
    {
      "cell_type": "code",
      "source": [
        "activity_status = data[:, 5 ]"
      ],
      "metadata": {
        "id": "lza3259p_rWY"
      },
      "execution_count": 84,
      "outputs": []
    },
    {
      "cell_type": "code",
      "source": [
        "mood_happy_active = (mood == \"Happy\") & (activity_status == \"Active\")\n",
        "step_count_happy_active = step_count[mood_happy_active]\n",
        "step_count_happy_active"
      ],
      "metadata": {
        "colab": {
          "base_uri": "https://localhost:8080/"
        },
        "id": "OMmiWxsH7QaX",
        "outputId": "65ffb901-7be7-4369-a367-077be9d744cb"
      },
      "execution_count": 89,
      "outputs": [
        {
          "output_type": "execute_result",
          "data": {
            "text/plain": [
              "array([4732, 4550,  539, 6314,  614, 3149, 4005, 4880, 4136,  705,  269,\n",
              "        493,  995, 3608,  774, 1421, 4064, 2725, 5934, 1867, 7422, 5537,\n",
              "       5376, 2203])"
            ]
          },
          "metadata": {},
          "execution_count": 89
        }
      ]
    },
    {
      "cell_type": "code",
      "source": [
        "step_count_happy_active.mean()"
      ],
      "metadata": {
        "colab": {
          "base_uri": "https://localhost:8080/"
        },
        "id": "K6WfTN6mAJZT",
        "outputId": "6ed2a727-52f0-42e5-ce51-951da8450a81"
      },
      "execution_count": 90,
      "outputs": [
        {
          "output_type": "execute_result",
          "data": {
            "text/plain": [
              "3179.6666666666665"
            ]
          },
          "metadata": {},
          "execution_count": 90
        }
      ]
    },
    {
      "cell_type": "code",
      "source": [
        "len(step_count_happy_active)"
      ],
      "metadata": {
        "colab": {
          "base_uri": "https://localhost:8080/"
        },
        "id": "gdKMIdzqAJWC",
        "outputId": "c5186afd-d038-4d36-b9ea-9223a605b6ef"
      },
      "execution_count": 91,
      "outputs": [
        {
          "output_type": "execute_result",
          "data": {
            "text/plain": [
              "24"
            ]
          },
          "metadata": {},
          "execution_count": 91
        }
      ]
    },
    {
      "cell_type": "code",
      "source": [
        "#argmax #argmin # gives the index of the maximum value"
      ],
      "metadata": {
        "id": "i7EarIXjAJTO"
      },
      "execution_count": null,
      "outputs": []
    },
    {
      "cell_type": "code",
      "source": [
        "a = np.array([1,2,5,6,10,4])\n",
        "a.argmin()"
      ],
      "metadata": {
        "colab": {
          "base_uri": "https://localhost:8080/"
        },
        "id": "uufLP8sZAJQU",
        "outputId": "7b1037ea-82f2-4573-f5f6-cbdb56cdc6f2"
      },
      "execution_count": 92,
      "outputs": [
        {
          "output_type": "execute_result",
          "data": {
            "text/plain": [
              "0"
            ]
          },
          "metadata": {},
          "execution_count": 92
        }
      ]
    },
    {
      "cell_type": "code",
      "source": [
        "## Date where there are maximum step"
      ],
      "metadata": {
        "id": "F1tC5XdIAJNS"
      },
      "execution_count": null,
      "outputs": []
    },
    {
      "cell_type": "code",
      "source": [
        "data"
      ],
      "metadata": {
        "colab": {
          "base_uri": "https://localhost:8080/"
        },
        "id": "LFwN1xioAJB_",
        "outputId": "f54b1fcc-2605-46ce-ea66-03d06ddfd7a5"
      },
      "execution_count": 93,
      "outputs": [
        {
          "output_type": "execute_result",
          "data": {
            "text/plain": [
              "array([['06-10-2017', '5464', 'Neutral', '181', '5', 'Inactive'],\n",
              "       ['07-10-2017', '6041', 'Sad', '197', '8', 'Inactive'],\n",
              "       ['08-10-2017', '25', 'Sad', '0', '5', 'Inactive'],\n",
              "       ['09-10-2017', '5461', 'Sad', '174', '4', 'Inactive'],\n",
              "       ['10-10-2017', '6915', 'Neutral', '223', '5', 'Active'],\n",
              "       ['11-10-2017', '4545', 'Sad', '149', '6', 'Inactive'],\n",
              "       ['12-10-2017', '4340', 'Sad', '140', '6', 'Inactive'],\n",
              "       ['13-10-2017', '1230', 'Sad', '38', '7', 'Inactive'],\n",
              "       ['14-10-2017', '61', 'Sad', '1', '5', 'Inactive'],\n",
              "       ['15-10-2017', '1258', 'Sad', '40', '6', 'Inactive'],\n",
              "       ['16-10-2017', '3148', 'Sad', '101', '8', 'Inactive'],\n",
              "       ['17-10-2017', '4687', 'Sad', '152', '5', 'Inactive'],\n",
              "       ['18-10-2017', '4732', 'Happy', '150', '6', 'Active'],\n",
              "       ['19-10-2017', '3519', 'Sad', '113', '7', 'Inactive'],\n",
              "       ['20-10-2017', '1580', 'Sad', '49', '5', 'Inactive'],\n",
              "       ['21-10-2017', '2822', 'Sad', '86', '6', 'Inactive'],\n",
              "       ['22-10-2017', '181', 'Sad', '6', '8', 'Inactive'],\n",
              "       ['23-10-2017', '3158', 'Neutral', '99', '5', 'Inactive'],\n",
              "       ['24-10-2017', '4383', 'Neutral', '143', '4', 'Inactive'],\n",
              "       ['25-10-2017', '3881', 'Neutral', '125', '5', 'Inactive'],\n",
              "       ['26-10-2017', '4037', 'Neutral', '129', '6', 'Inactive'],\n",
              "       ['27-10-2017', '202', 'Neutral', '6', '8', 'Inactive'],\n",
              "       ['28-10-2017', '292', 'Neutral', '9', '5', 'Inactive'],\n",
              "       ['29-10-2017', '330', 'Happy', '10', '6', 'Inactive'],\n",
              "       ['30-10-2017', '2209', 'Neutral', '72', '5', 'Inactive'],\n",
              "       ['31-10-2017', '4550', 'Happy', '150', '8', 'Active'],\n",
              "       ['01-11-2017', '4435', 'Happy', '141', '5', 'Inactive'],\n",
              "       ['02-11-2017', '4779', 'Happy', '156', '4', 'Inactive'],\n",
              "       ['03-11-2017', '1831', 'Happy', '57', '5', 'Inactive'],\n",
              "       ['04-11-2017', '2255', 'Happy', '72', '4', 'Inactive'],\n",
              "       ['05-11-2017', '539', 'Happy', '17', '5', 'Active'],\n",
              "       ['06-11-2017', '5464', 'Happy', '181', '4', 'Inactive'],\n",
              "       ['07-11-2017', '6041', 'Neutral', '197', '3', 'Inactive'],\n",
              "       ['08-11-2017', '4068', 'Happy', '131', '2', 'Inactive'],\n",
              "       ['09-11-2017', '4683', 'Happy', '154', '9', 'Inactive'],\n",
              "       ['10-11-2017', '4033', 'Happy', '137', '5', 'Inactive'],\n",
              "       ['11-11-2017', '6314', 'Happy', '193', '6', 'Active'],\n",
              "       ['12-11-2017', '614', 'Happy', '19', '4', 'Active'],\n",
              "       ['13-11-2017', '3149', 'Happy', '101', '5', 'Active'],\n",
              "       ['14-11-2017', '4005', 'Happy', '139', '8', 'Active'],\n",
              "       ['15-11-2017', '4880', 'Happy', '164', '4', 'Active'],\n",
              "       ['16-11-2017', '4136', 'Happy', '137', '5', 'Active'],\n",
              "       ['17-11-2017', '705', 'Happy', '22', '6', 'Active'],\n",
              "       ['18-11-2017', '570', 'Neutral', '17', '5', 'Active'],\n",
              "       ['19-11-2017', '269', 'Happy', '9', '6', 'Active'],\n",
              "       ['20-11-2017', '4275', 'Happy', '145', '5', 'Inactive'],\n",
              "       ['21-11-2017', '5999', 'Happy', '192', '6', 'Inactive'],\n",
              "       ['22-11-2017', '4421', 'Happy', '146', '5', 'Inactive'],\n",
              "       ['23-11-2017', '6930', 'Happy', '234', '6', 'Inactive'],\n",
              "       ['24-11-2017', '5195', 'Happy', '167', '5', 'Inactive'],\n",
              "       ['25-11-2017', '546', 'Happy', '16', '6', 'Inactive'],\n",
              "       ['26-11-2017', '493', 'Happy', '17', '7', 'Active'],\n",
              "       ['27-11-2017', '995', 'Happy', '32', '6', 'Active'],\n",
              "       ['28-11-2017', '1163', 'Neutral', '35', '7', 'Active'],\n",
              "       ['29-11-2017', '6676', 'Sad', '220', '6', 'Active'],\n",
              "       ['30-11-2017', '3608', 'Happy', '116', '5', 'Active'],\n",
              "       ['01-12-2017', '774', 'Happy', '23', '6', 'Active'],\n",
              "       ['02-12-2017', '1421', 'Happy', '44', '7', 'Active'],\n",
              "       ['03-12-2017', '4064', 'Happy', '131', '8', 'Active'],\n",
              "       ['04-12-2017', '2725', 'Happy', '86', '8', 'Active'],\n",
              "       ['05-12-2017', '5934', 'Happy', '194', '7', 'Active'],\n",
              "       ['06-12-2017', '1867', 'Happy', '60', '8', 'Active'],\n",
              "       ['07-12-2017', '3721', 'Sad', '121', '5', 'Active'],\n",
              "       ['08-12-2017', '2374', 'Neutral', '76', '4', 'Inactive'],\n",
              "       ['09-12-2017', '2909', 'Neutral', '93', '3', 'Active'],\n",
              "       ['10-12-2017', '1648', 'Sad', '53', '3', 'Active'],\n",
              "       ['11-12-2017', '799', 'Sad', '25', '4', 'Inactive'],\n",
              "       ['12-12-2017', '7102', 'Neutral', '227', '5', 'Active'],\n",
              "       ['13-12-2017', '3941', 'Neutral', '125', '5', 'Active'],\n",
              "       ['14-12-2017', '7422', 'Happy', '243', '5', 'Active'],\n",
              "       ['15-12-2017', '437', 'Neutral', '14', '3', 'Active'],\n",
              "       ['16-12-2017', '1231', 'Neutral', '39', '4', 'Active'],\n",
              "       ['17-12-2017', '1696', 'Sad', '55', '4', 'Inactive'],\n",
              "       ['18-12-2017', '4921', 'Neutral', '158', '5', 'Active'],\n",
              "       ['19-12-2017', '221', 'Sad', '7', '5', 'Active'],\n",
              "       ['20-12-2017', '6500', 'Neutral', '213', '5', 'Active'],\n",
              "       ['21-12-2017', '3575', 'Neutral', '116', '5', 'Active'],\n",
              "       ['22-12-2017', '4061', 'Sad', '129', '5', 'Inactive'],\n",
              "       ['23-12-2017', '651', 'Sad', '21', '5', 'Inactive'],\n",
              "       ['24-12-2017', '753', 'Sad', '28', '4', 'Inactive'],\n",
              "       ['25-12-2017', '518', 'Sad', '16', '3', 'Inactive'],\n",
              "       ['26-12-2017', '5537', 'Happy', '180', '4', 'Active'],\n",
              "       ['27-12-2017', '4108', 'Neutral', '138', '5', 'Active'],\n",
              "       ['28-12-2017', '5376', 'Happy', '176', '5', 'Active'],\n",
              "       ['29-12-2017', '3066', 'Neutral', '99', '4', 'Active'],\n",
              "       ['30-12-2017', '177', 'Sad', '5', '5', 'Inactive'],\n",
              "       ['31-12-2017', '36', 'Sad', '1', '3', 'Inactive'],\n",
              "       ['01-01-2018', '299', 'Sad', '10', '3', 'Inactive'],\n",
              "       ['02-01-2018', '1447', 'Neutral', '47', '3', 'Inactive'],\n",
              "       ['03-01-2018', '2599', 'Neutral', '84', '2', 'Inactive'],\n",
              "       ['04-01-2018', '702', 'Sad', '23', '3', 'Inactive'],\n",
              "       ['05-01-2018', '133', 'Sad', '4', '2', 'Inactive'],\n",
              "       ['06-01-2018', '153', 'Happy', '0', '8', 'Inactive'],\n",
              "       ['07-01-2018', '500', 'Neutral', '0', '5', 'Active'],\n",
              "       ['08-01-2018', '2127', 'Neutral', '0', '5', 'Inactive'],\n",
              "       ['09-01-2018', '2203', 'Happy', '0', '5', 'Active']], dtype='<U10')"
            ]
          },
          "metadata": {},
          "execution_count": 93
        }
      ]
    },
    {
      "cell_type": "code",
      "source": [
        "date = data[:, 0]\n",
        "max_step_count = step_count.argmax()\n",
        "date_max_step_count = date[max_step_count]\n",
        "date_max_step_count"
      ],
      "metadata": {
        "colab": {
          "base_uri": "https://localhost:8080/",
          "height": 36
        },
        "id": "GllkIv4QAIxf",
        "outputId": "2d813f55-da22-4545-92fd-384cae79e397"
      },
      "execution_count": 102,
      "outputs": [
        {
          "output_type": "execute_result",
          "data": {
            "text/plain": [
              "'14-12-2017'"
            ],
            "application/vnd.google.colaboratory.intrinsic+json": {
              "type": "string"
            }
          },
          "metadata": {},
          "execution_count": 102
        }
      ]
    },
    {
      "cell_type": "code",
      "source": [
        "##date where there are minimum step_count"
      ],
      "metadata": {
        "id": "lOBp8SIcDYxV"
      },
      "execution_count": null,
      "outputs": []
    },
    {
      "cell_type": "code",
      "source": [
        "date_min_step_count = date[step_count.argmin()]"
      ],
      "metadata": {
        "id": "QG-1vkmWDYuB"
      },
      "execution_count": 103,
      "outputs": []
    },
    {
      "cell_type": "code",
      "source": [
        "date_min_step_count"
      ],
      "metadata": {
        "colab": {
          "base_uri": "https://localhost:8080/",
          "height": 36
        },
        "id": "qr4s0fL_DYq5",
        "outputId": "2c172dd7-9c6d-4c36-da90-ab0edbee1642"
      },
      "execution_count": 104,
      "outputs": [
        {
          "output_type": "execute_result",
          "data": {
            "text/plain": [
              "'08-10-2017'"
            ],
            "application/vnd.google.colaboratory.intrinsic+json": {
              "type": "string"
            }
          },
          "metadata": {},
          "execution_count": 104
        }
      ]
    },
    {
      "cell_type": "code",
      "source": [
        "## calories burnt where there are minimum step_count"
      ],
      "metadata": {
        "id": "L9OuaJTeDrpo"
      },
      "execution_count": 105,
      "outputs": []
    },
    {
      "cell_type": "code",
      "source": [
        "calories = data[:,3]\n",
        "calories"
      ],
      "metadata": {
        "colab": {
          "base_uri": "https://localhost:8080/"
        },
        "id": "vG6hhi4cDrmz",
        "outputId": "6af4c712-8628-49ae-c341-169f0aecaa7e"
      },
      "execution_count": 109,
      "outputs": [
        {
          "output_type": "execute_result",
          "data": {
            "text/plain": [
              "array(['181', '197', '0', '174', '223', '149', '140', '38', '1', '40',\n",
              "       '101', '152', '150', '113', '49', '86', '6', '99', '143', '125',\n",
              "       '129', '6', '9', '10', '72', '150', '141', '156', '57', '72', '17',\n",
              "       '181', '197', '131', '154', '137', '193', '19', '101', '139',\n",
              "       '164', '137', '22', '17', '9', '145', '192', '146', '234', '167',\n",
              "       '16', '17', '32', '35', '220', '116', '23', '44', '131', '86',\n",
              "       '194', '60', '121', '76', '93', '53', '25', '227', '125', '243',\n",
              "       '14', '39', '55', '158', '7', '213', '116', '129', '21', '28',\n",
              "       '16', '180', '138', '176', '99', '5', '1', '10', '47', '84', '23',\n",
              "       '4', '0', '0', '0', '0'], dtype='<U10')"
            ]
          },
          "metadata": {},
          "execution_count": 109
        }
      ]
    },
    {
      "cell_type": "code",
      "source": [
        "calories_min_step_count = calories[step_count.argmin()]\n",
        "calories_min_step_count"
      ],
      "metadata": {
        "colab": {
          "base_uri": "https://localhost:8080/",
          "height": 36
        },
        "id": "I0ZjQXhzDrkH",
        "outputId": "b4fd44a9-0b4b-4010-d0fa-55b0aaffc18c"
      },
      "execution_count": 112,
      "outputs": [
        {
          "output_type": "execute_result",
          "data": {
            "text/plain": [
              "'0'"
            ],
            "application/vnd.google.colaboratory.intrinsic+json": {
              "type": "string"
            }
          },
          "metadata": {},
          "execution_count": 112
        }
      ]
    },
    {
      "cell_type": "code",
      "source": [],
      "metadata": {
        "id": "6QZckxb4Drgd"
      },
      "execution_count": null,
      "outputs": []
    },
    {
      "cell_type": "code",
      "source": [],
      "metadata": {
        "id": "EA_b0tB1Drcy"
      },
      "execution_count": null,
      "outputs": []
    }
  ]
}